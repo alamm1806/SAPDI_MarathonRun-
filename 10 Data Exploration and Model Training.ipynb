{
 "cells": [
  {
   "cell_type": "code",
   "execution_count": 2,
   "metadata": {},
   "outputs": [],
   "source": [
    "import notebook_hana_connector.notebook_hana_connector\n",
    "di_connection = notebook_hana_connector.notebook_hana_connector.get_datahub_connection(id_=\"S3\")\n",
    "access_key = di_connection[\"contentData\"][\"accessKey\"]\n",
    "secret_key = di_connection[\"contentData\"][\"secretKey\"]"
   ]
  },
  {
   "cell_type": "code",
   "execution_count": 3,
   "metadata": {},
   "outputs": [
    {
     "data": {
      "text/html": [
       "<div>\n",
       "<style scoped>\n",
       "    .dataframe tbody tr th:only-of-type {\n",
       "        vertical-align: middle;\n",
       "    }\n",
       "\n",
       "    .dataframe tbody tr th {\n",
       "        vertical-align: top;\n",
       "    }\n",
       "\n",
       "    .dataframe thead th {\n",
       "        text-align: right;\n",
       "    }\n",
       "</style>\n",
       "<table border=\"1\" class=\"dataframe\">\n",
       "  <thead>\n",
       "    <tr style=\"text-align: right;\">\n",
       "      <th></th>\n",
       "      <th>ID</th>\n",
       "      <th>HALFMARATHON_MINUTES</th>\n",
       "      <th>MARATHON_MINUTES</th>\n",
       "    </tr>\n",
       "  </thead>\n",
       "  <tbody>\n",
       "    <tr>\n",
       "      <td>0</td>\n",
       "      <td>1</td>\n",
       "      <td>73</td>\n",
       "      <td>149</td>\n",
       "    </tr>\n",
       "    <tr>\n",
       "      <td>1</td>\n",
       "      <td>2</td>\n",
       "      <td>74</td>\n",
       "      <td>154</td>\n",
       "    </tr>\n",
       "    <tr>\n",
       "      <td>2</td>\n",
       "      <td>3</td>\n",
       "      <td>78</td>\n",
       "      <td>158</td>\n",
       "    </tr>\n",
       "    <tr>\n",
       "      <td>3</td>\n",
       "      <td>4</td>\n",
       "      <td>73</td>\n",
       "      <td>165</td>\n",
       "    </tr>\n",
       "    <tr>\n",
       "      <td>4</td>\n",
       "      <td>5</td>\n",
       "      <td>74</td>\n",
       "      <td>172</td>\n",
       "    </tr>\n",
       "  </tbody>\n",
       "</table>\n",
       "</div>"
      ],
      "text/plain": [
       "   ID  HALFMARATHON_MINUTES  MARATHON_MINUTES\n",
       "0   1                    73               149\n",
       "1   2                    74               154\n",
       "2   3                    78               158\n",
       "3   4                    73               165\n",
       "4   5                    74               172"
      ]
     },
     "execution_count": 3,
     "metadata": {},
     "output_type": "execute_result"
    }
   ],
   "source": [
    "# import boto3\n",
    "# client = boto3.client('s3', aws_access_key_id=access_key, \n",
    "#                             aws_secret_access_key=secret_key)\n",
    "\n",
    "from minio import Minio\n",
    "from minio.error import ResponseError\n",
    "import pandas as pd\n",
    "import io\n",
    "\n",
    "minioClient = Minio('sapdatahub.com:9000', access_key=access_key, secret_key=secret_key, secure=True)\n",
    "\n",
    "# -- List Buckets\n",
    "# buckets = minioClient.list_buckets()\n",
    "# for bucket in buckets:\n",
    "#     print(bucket.name, bucket.creation_date)\n",
    "\n",
    "# Get csv file from minio S3 bucket.\n",
    "try:\n",
    "    csvFile = minioClient.get_object('bucket1', 'RunningTimes.csv')\n",
    "    body = csvFile.data\n",
    "    csv_string = body.decode('utf-8')\n",
    "    df_data = pd.read_csv(io.StringIO(csv_string), sep=\";\")\n",
    "    \n",
    "except ResponseError as err:\n",
    "    print(err)\n",
    "    \n",
    "df_data.head(5)"
   ]
  },
  {
   "cell_type": "code",
   "execution_count": 4,
   "metadata": {},
   "outputs": [
    {
     "data": {
      "image/png": "[encoded data removed]",
      "text/plain": [
       "<Figure size 432x288 with 1 Axes>"
      ]
     },
     "metadata": {
      "needs_background": "light"
     },
     "output_type": "display_data"
    }
   ],
   "source": [
    "x = df_data[[\"HALFMARATHON_MINUTES\"]]\n",
    "y_true = df_data[\"MARATHON_MINUTES\"]\n",
    "\n",
    "%matplotlib inline\n",
    "import matplotlib.pyplot as plot\n",
    "plot.scatter(x, y_true, color = 'darkblue');\n",
    "plot.xlabel(\"Minutes Half-Marathon\");\n",
    "plot.ylabel(\"Minutes Marathon\");"
   ]
  },
  {
   "cell_type": "code",
   "execution_count": 5,
   "metadata": {},
   "outputs": [
    {
     "data": {
      "image/png": "[encoded data removed]",
      "text/plain": [
       "<Figure size 432x288 with 1 Axes>"
      ]
     },
     "metadata": {
      "needs_background": "light"
     },
     "output_type": "display_data"
    }
   ],
   "source": [
    "from sklearn.linear_model import LinearRegression\n",
    "lm = LinearRegression()\n",
    "lm.fit(x, y_true)\n",
    "\n",
    "plot.scatter(x, y_true, color = 'darkblue');\n",
    "plot.plot(x, lm.predict(x), color = 'red');\n",
    "plot.xlabel(\"Actual Minutes Half-Marathon\");\n",
    "plot.ylabel(\"Actual Minutes Marathon\");"
   ]
  },
  {
   "cell_type": "code",
   "execution_count": 6,
   "metadata": {},
   "outputs": [
    {
     "name": "stdout",
     "output_type": "stream",
     "text": [
      "RMSE:  16.96\n",
      "n:  117\n"
     ]
    }
   ],
   "source": [
    "import numpy as np\n",
    "y_pred = lm.predict(x)\n",
    "mse = np.mean((y_pred - y_true)**2)\n",
    "rmse = np.sqrt(mse)\n",
    "rmse = round(rmse, 2)\n",
    "print(\"RMSE: \" , str(rmse))\n",
    "print(\"n: \", str(len(x)))"
   ]
  },
  {
   "cell_type": "code",
   "execution_count": 7,
   "metadata": {},
   "outputs": [],
   "source": [
    "import pickle\n",
    "pickle.dump(lm, open(\"marathon_lm.pickle.dat\", \"wb\"))"
   ]
  },
  {
   "cell_type": "code",
   "execution_count": 10,
   "metadata": {},
   "outputs": [
    {
     "name": "stdout",
     "output_type": "stream",
     "text": [
      "Package                 Version  \n",
      "----------------------- ---------\n",
      "asn1crypto              0.24.0   \n",
      "attrs                   19.3.0   \n",
      "backcall                0.1.0    \n",
      "bleach                  3.1.0    \n",
      "certifi                 2019.9.11\n",
      "cffi                    1.12.3   \n",
      "chardet                 3.0.4    \n",
      "cloudpickle             0.5.2    \n",
      "conda                   4.7.10   \n",
      "conda-package-handling  1.3.11   \n",
      "cryptography            2.7      \n",
      "cycler                  0.10.0   \n",
      "decorator               4.4.0    \n",
      "defusedxml              0.6.0    \n",
      "docopt                  0.6.2    \n",
      "entrypoints             0.3      \n",
      "environs                5.2.1    \n",
      "future                  0.17.1   \n",
      "hana-ml                 1.0.5    \n",
      "hdbcli                  2.4.142  \n",
      "hdfs                    2.5.0    \n",
      "idna                    2.8      \n",
      "importlib-metadata      0.23     \n",
      "ipykernel               5.1.2    \n",
      "ipython                 7.8.0    \n",
      "ipython-genutils        0.2.0    \n",
      "jedi                    0.15.1   \n",
      "Jinja2                  2.10.3   \n",
      "json5                   0.8.5    \n",
      "jsonschema              3.1.1    \n",
      "jupyter-client          5.3.3    \n",
      "jupyter-core            4.5.0    \n",
      "jupyterlab              1.1.4    \n",
      "jupyterlab-server       1.0.6    \n",
      "kiwisolver              1.1.0    \n",
      "libarchive-c            2.8      \n",
      "MarkupSafe              1.1.1    \n",
      "marshmallow             3.2.1    \n",
      "matplotlib              3.1.1    \n",
      "mistune                 0.8.4    \n",
      "more-itertools          7.2.0    \n",
      "nbconvert               5.6.0    \n",
      "nbformat                4.4.0    \n",
      "notebook                5.7.8    \n",
      "notebook-hana-connector 1.0.10   \n",
      "numpy                   1.17.2   \n",
      "pandas                  0.25.1   \n",
      "pandocfilters           1.4.2    \n",
      "parse                   1.12.1   \n",
      "parso                   0.5.1    \n",
      "pexpect                 4.7.0    \n",
      "pickleshare             0.7.5    \n",
      "pip                     19.1.1   \n",
      "prometheus-client       0.7.1    \n",
      "prompt-toolkit          2.0.10   \n",
      "ptyprocess              0.6.0    \n",
      "pycosat                 0.6.3    \n",
      "pycparser               2.19     \n",
      "pydot                   1.4.1    \n",
      "Pygments                2.4.2    \n",
      "pyOpenSSL               19.0.0   \n",
      "pyparsing               2.4.2    \n",
      "pyrsistent              0.15.4   \n",
      "PySocks                 1.7.0    \n",
      "python-dateutil         2.8.0    \n",
      "python-dotenv           0.10.3   \n",
      "pytz                    2019.3   \n",
      "pyzmq                   18.1.0   \n",
      "requests                2.21.0   \n",
      "ruamel-yaml             0.15.46  \n",
      "sapdi                   0.3.4    \n",
      "sdi-notebook2operator   0.0.1    \n",
      "Send2Trash              1.5.0    \n",
      "setuptools              41.0.1   \n",
      "six                     1.11.0   \n",
      "terminado               0.8.2    \n",
      "testpath                0.4.2    \n",
      "tornado                 4.5.3    \n",
      "tqdm                    4.32.1   \n",
      "traitlets               4.3.3    \n",
      "urllib3                 1.24.3   \n",
      "vflow-swagger-client    0.3.6.1  \n",
      "wcwidth                 0.1.7    \n",
      "webencodings            0.5.1    \n",
      "wheel                   0.33.4   \n",
      "zipp                    0.6.0    \n"
     ]
    }
   ],
   "source": []
  },
  {
   "cell_type": "code",
   "execution_count": null,
   "metadata": {},
   "outputs": [],
   "source": []
  }
 ],
 "metadata": {
  "createdAt": "2020-03-02T08:14:23Z",
  "createdBy": "ta01",
  "description": "",
  "kernelspec": {
   "display_name": "Python 3",
   "language": "python",
   "name": "python3"
  },
  "language_info": {
   "codemirror_mode": {
    "name": "ipython",
    "version": 3
   },
   "file_extension": ".py",
   "mimetype": "text/x-python",
   "name": "python",
   "nbconvert_exporter": "python",
   "pygments_lexer": "ipython3",
   "version": "3.7.3"
  },
  "modifiedAt": "2020-03-02T08:14:23Z",
  "modifiedBy": "ta01",
  "name": "10 Data Exploration and Model Training",
  "scenarioId": "80bdbfb2-80d0-49d3-8082-3d78e3e1ca8f"
 },
 "nbformat": 4,
 "nbformat_minor": 4
}
